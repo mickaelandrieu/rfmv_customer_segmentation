{
 "cells": [
  {
   "cell_type": "markdown",
   "metadata": {},
   "source": [
    "# Comparison of obtained models"
   ]
  },
  {
   "cell_type": "code",
   "execution_count": null,
   "metadata": {},
   "outputs": [],
   "source": [
    "import pandas as pd\n",
    "\n",
    "rfm = pd.read_csv('./../data/clustered/rfm.csv')\n",
    "rfm['kmeans_cluster'] = rfm['kmeans_cluster'] + 1\n",
    "rfm['kmeans_cluster'] = rfm['kmeans_cluster'].astype('category')\n",
    "rfm"
   ]
  },
  {
   "cell_type": "code",
   "execution_count": null,
   "metadata": {},
   "outputs": [],
   "source": [
    "rfmv = pd.read_csv('./../data/clustered/rfmv.csv')\n",
    "rfmv['kmeans_cluster'] = rfmv['kmeans_cluster'] + 1\n",
    "rfmv['kmeans_cluster'] = rfmv['kmeans_cluster'].astype('category')\n",
    "\n",
    "rfmv"
   ]
  },
  {
   "cell_type": "code",
   "execution_count": null,
   "metadata": {},
   "outputs": [],
   "source": [
    "from sklearn.metrics import silhouette_score, calinski_harabasz_score, davies_bouldin_score\n",
    "from sklearn.model_selection import train_test_split\n",
    "from sklearn.preprocessing import StandardScaler\n",
    "from sklearn.cluster import KMeans\n",
    "\n",
    "experiments = []"
   ]
  },
  {
   "cell_type": "markdown",
   "metadata": {},
   "source": [
    "## RFM : 100 experiments"
   ]
  },
  {
   "cell_type": "code",
   "execution_count": null,
   "metadata": {},
   "outputs": [],
   "source": [
    "y = rfm['kmeans_cluster']\n",
    "for i in range(100):\n",
    "    X_train, X_test, y_train, y_test = train_test_split(\n",
    "        rfm, y, test_size=0.1, stratify=y\n",
    "    )\n",
    "\n",
    "    scaler = StandardScaler()\n",
    "\n",
    "    scaled_customers = scaler.fit_transform(X_test[['recency', 'frequency', 'monetary']])\n",
    "    kmeans = KMeans(n_clusters=5)\n",
    "    kmeans.fit(scaled_customers)\n",
    "    labels = kmeans.labels_\n",
    " \n",
    "    experiments.append({\n",
    "        'model': 'RFM',\n",
    "        'experiment_no': i,\n",
    "        'silouhette_score': round(silhouette_score(scaled_customers, labels), 2),\n",
    "        'calinski_harabasz_score': round(calinski_harabasz_score(scaled_customers, labels), 2),\n",
    "        'davies_bouldin_score': round(davies_bouldin_score(scaled_customers, labels), 2)\n",
    "    })"
   ]
  },
  {
   "cell_type": "markdown",
   "metadata": {},
   "source": [
    "## RFMV : 100 experiments"
   ]
  },
  {
   "cell_type": "code",
   "execution_count": 80,
   "metadata": {},
   "outputs": [],
   "source": [
    "y = rfmv['kmeans_cluster']\n",
    "for i in range(100):\n",
    "    X_train, X_test, y_train, y_test = train_test_split(\n",
    "        rfmv, y, test_size=0.1, stratify=y\n",
    "    )\n",
    "\n",
    "    scaler = StandardScaler()\n",
    "\n",
    "    scaled_customers = scaler.fit_transform(X_test[['recency', 'frequency', 'monetary', 'variety']])\n",
    "    kmeans = KMeans(n_clusters=4)\n",
    "    kmeans.fit(scaled_customers)\n",
    "    labels = kmeans.labels_\n",
    " \n",
    "    experiments.append({\n",
    "        'model': 'RFMV',\n",
    "        'experiment_no': i,\n",
    "        'silouhette_score': round(silhouette_score(scaled_customers, labels), 2),\n",
    "        'calinski_harabasz_score': round(calinski_harabasz_score(scaled_customers, labels), 2),\n",
    "        'davies_bouldin_score': round(davies_bouldin_score(scaled_customers, labels), 2)\n",
    "    })"
   ]
  },
  {
   "cell_type": "code",
   "execution_count": 81,
   "metadata": {},
   "outputs": [],
   "source": [
    "# Track results\n",
    "report = pd.DataFrame(experiments)\n"
   ]
  },
  {
   "cell_type": "code",
   "execution_count": null,
   "metadata": {},
   "outputs": [],
   "source": []
  },
  {
   "cell_type": "markdown",
   "metadata": {},
   "source": [
    "## Statistics review\n"
   ]
  },
  {
   "cell_type": "markdown",
   "metadata": {},
   "source": [
    "### Looking for a gaussian variable\n",
    "\n",
    "* H<sub>0</sub>: our variables are gaussian\n",
    "* H<sub>1</sub>: our variables are not gaussian"
   ]
  },
  {
   "cell_type": "code",
   "execution_count": 82,
   "metadata": {},
   "outputs": [
    {
     "name": "stdout",
     "output_type": "stream",
     "text": [
      "The variable 'silouhette_score' doesn't follow the normal law. (p-value = 0.0000)\n",
      "The variable 'calinski_harabasz_score' doesn't follow the normal law. (p-value = 0.0025)\n",
      "The variable 'davies_bouldin_score' doesn't follow the normal law. (p-value = 0.0000)\n"
     ]
    }
   ],
   "source": [
    "import scipy.stats as st\n",
    "\n",
    "alpha = 0.01\n",
    "k2, p = st.normaltest(report['silouhette_score'])\n",
    "\n",
    "for var in ['silouhette_score', 'calinski_harabasz_score', 'davies_bouldin_score']:\n",
    "    k2, p = st.normaltest(report[var])\n",
    "    \n",
    "    if (p > alpha):\n",
    "        print(f\"The variable '{var}' follow the normal law. (p-value = {p:.4f})\")\n",
    "    else:\n",
    "        print(f\"The variable '{var}' doesn't follow the normal law. (p-value = {p:.4f})\")\n"
   ]
  },
  {
   "cell_type": "markdown",
   "metadata": {},
   "source": [
    "The silhouette score variable is gaussian so we can use Student and Bartlett tests\n",
    "to check if the the distributions of this variable is different enough regarding the modelisation method."
   ]
  },
  {
   "cell_type": "markdown",
   "metadata": {},
   "source": [
    "To assess the quality of our groups, we must prove that they are statistically different.\n",
    "\n",
    "For this, we will use two statistical tests:\n",
    "\n",
    "* Bartlett's test which is a variance adequacy test;\n",
    "* Student's test which is a test of adequacy on the average;\n",
    "\n",
    "The hypothesis H<sub>0</sub> will be the following, if one or the other of these statistical properties varies significantly from one group to another then the hypothesis is rejected.\n",
    "\n",
    "We set our risk threshold α at 1%."
   ]
  },
  {
   "cell_type": "code",
   "execution_count": 83,
   "metadata": {},
   "outputs": [
    {
     "data": {
      "text/plain": [
       "BartlettResult(statistic=0.43876470124869965, pvalue=0.5077192848096231)"
      ]
     },
     "execution_count": 83,
     "metadata": {},
     "output_type": "execute_result"
    }
   ],
   "source": [
    "rfm = report[report.model == 'RFM']['silouhette_score']\n",
    "rfmv = report[report.model == 'RFMV']['silouhette_score']\n",
    "\n",
    "st.bartlett(rfm,rfmv)"
   ]
  },
  {
   "cell_type": "markdown",
   "metadata": {},
   "source": [
    "The H<sub>0</sub> hypothesis on the variance is rejected since the p-value is less than 0.01."
   ]
  },
  {
   "cell_type": "code",
   "execution_count": 84,
   "metadata": {},
   "outputs": [
    {
     "data": {
      "text/plain": [
       "Ttest_indResult(statistic=53.43939773958197, pvalue=1.3757318836977976e-119)"
      ]
     },
     "execution_count": 84,
     "metadata": {},
     "output_type": "execute_result"
    }
   ],
   "source": [
    "st.ttest_ind(rfm, rfmv, equal_var=True)"
   ]
  },
  {
   "cell_type": "markdown",
   "metadata": {},
   "source": [
    "The H<sub>0</sub> hypothesis on the mean is rejected since the p-value is less than 0.01."
   ]
  },
  {
   "cell_type": "markdown",
   "metadata": {},
   "source": [
    "### Findings\n",
    "\n",
    "The two groups are statistically different regarding the silouhette score, we can assert that the RFMV modelisation produce less performant clustering than RFM modelisation."
   ]
  },
  {
   "cell_type": "code",
   "execution_count": 85,
   "metadata": {},
   "outputs": [],
   "source": [
    "report.to_csv('./../data/metrics/report.csv',index=False)"
   ]
  }
 ],
 "metadata": {
  "interpreter": {
   "hash": "daec8a854f9ce19f0bea44c913ac92dab0ec215a115009d8b39b35c4f3a9da6b"
  },
  "kernelspec": {
   "display_name": "Python 3.9.1 ('dev': venv)",
   "language": "python",
   "name": "python3"
  },
  "language_info": {
   "codemirror_mode": {
    "name": "ipython",
    "version": 3
   },
   "file_extension": ".py",
   "mimetype": "text/x-python",
   "name": "python",
   "nbconvert_exporter": "python",
   "pygments_lexer": "ipython3",
   "version": "3.9.1"
  },
  "orig_nbformat": 4
 },
 "nbformat": 4,
 "nbformat_minor": 2
}
